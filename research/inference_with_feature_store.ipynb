{
 "cells": [
  {
   "cell_type": "code",
   "execution_count": 1,
   "metadata": {},
   "outputs": [],
   "source": [
    "import requests \n",
    "import pickle\n",
    "import json\n",
    "import psycopg2\n",
    "import pandas as pd"
   ]
  },
  {
   "cell_type": "code",
   "execution_count": 2,
   "metadata": {},
   "outputs": [],
   "source": [
    "feature_store_id = \"cdc74d4c\""
   ]
  },
  {
   "cell_type": "code",
   "execution_count": 3,
   "metadata": {},
   "outputs": [],
   "source": [
    "# Connect to your postgres DB\n",
    "conn = psycopg2.connect(\n",
    "    dbname=\"olap\",\n",
    "    user=\"dsp\",\n",
    "    password=\"dsppassword\",\n",
    "    host=\"localhost\",\n",
    "    port=\"5432\")\n",
    "\n",
    "# Open a cursor to perform database operations\n",
    "cur = conn.cursor()\n",
    "\n",
    "# Execute a query\n",
    "cur.execute(\"SELECT * FROM ctr limit 1;\")\n",
    "\n",
    "# Retrieve query results\n",
    "records = cur.fetchall()"
   ]
  },
  {
   "cell_type": "code",
   "execution_count": 4,
   "metadata": {},
   "outputs": [],
   "source": [
    "ctr_data = pd.DataFrame(\n",
    "    records, \n",
    "    columns=[\n",
    "        \"ad_id\",\n",
    "        \"status\",\n",
    "        \"bidding_cpc\",\n",
    "        \"advertiser\",\n",
    "        \"banner_style\",\n",
    "        \"category\",\n",
    "        \"height\",\n",
    "        \"width\",\n",
    "        \"item_price\",\n",
    "        \"layout_style\",\n",
    "        \"hist_ctr\",\n",
    "        \"hist_cvr\",\n",
    "        \"was_click\"\n",
    "    ]\n",
    ")"
   ]
  },
  {
   "cell_type": "code",
   "execution_count": 5,
   "metadata": {},
   "outputs": [
    {
     "name": "stdout",
     "output_type": "stream",
     "text": [
      "{'ad_id': 1228, 'status': False, 'bidding_cpc': 1, 'advertiser': 'QQ', 'banner_style': 'VII', 'category': 'Pullover', 'height': 27.341917, 'width': 617.5163, 'item_price': 2896.437, 'layout_style': 'MP', 'hist_ctr': 0.00036614624, 'hist_cvr': 6.790803e-05, 'was_click': False}\n"
     ]
    }
   ],
   "source": [
    "# assume this is how the data look on the client side\n",
    "inference_client_input = ctr_data.iloc[0].to_dict()\n",
    "print(inference_client_input)"
   ]
  },
  {
   "cell_type": "code",
   "execution_count": 6,
   "metadata": {},
   "outputs": [
    {
     "name": "stderr",
     "output_type": "stream",
     "text": [
      "/Users/k/Library/Caches/pypoetry/virtualenvs/research-3QkaudzG-py3.9/lib/python3.9/site-packages/sklearn/base.py:329: UserWarning: Trying to unpickle estimator LogisticRegression from version 1.3.0 when using version 1.1.1. This might lead to breaking code or invalid results. Use at your own risk. For more info please refer to:\n",
      "https://scikit-learn.org/stable/model_persistence.html#security-maintainability-limitations\n",
      "  warnings.warn(\n"
     ]
    }
   ],
   "source": [
    "# load the model\n",
    "with open('../data/model-default/model.pickle', 'rb') as file:\n",
    "    model = pickle.load(file)"
   ]
  },
  {
   "cell_type": "code",
   "execution_count": 7,
   "metadata": {},
   "outputs": [
    {
     "name": "stdout",
     "output_type": "stream",
     "text": [
      "{\n",
      "  \"feature_store_id\": [\n",
      "    \"cdc74d4c\"\n",
      "  ],\n",
      "  \"feature_store_name\": [\n",
      "    \"mini-demand-side-platform\"\n",
      "  ],\n",
      "  \"description\": [\n",
      "    \"choice top 10 feature from correlation\"\n",
      "  ],\n",
      "  \"offline_table_name\": [\n",
      "    \"top_10_features\"\n",
      "  ]\n",
      "}\n"
     ]
    }
   ],
   "source": [
    "# this is the feature store that create from modeling_with_feature_store.ipynb\n",
    "# the feature store is able to help us do the feature engineering part\n",
    "response = requests.get(\n",
    "    \"http://localhost:8000/feature_store/{feature_store_id}\".format(feature_store_id=feature_store_id))\n",
    "print(json.dumps(response.json(),indent=2))"
   ]
  },
  {
   "cell_type": "code",
   "execution_count": 8,
   "metadata": {},
   "outputs": [
    {
     "name": "stdout",
     "output_type": "stream",
     "text": [
      "{'feature_id': ['5dbfb549', 'ea2f676f', '0ad63312', 'a2480212', '5aae0b22', '65934929', '2658049e', '717456fc', '1d34889f', '915a0c3c'], 'feature_name': ['layout_style_AB', 'layout_style_RU', 'layout_style_GY', 'layout_style_MR', 'layout_style_BK', 'layout_style_BX', 'layout_style_RZ', 'layout_style_TY', 'category_Shirt', 'layout_style_DX'], 'source_table_name': ['ctr', 'ctr', 'ctr', 'ctr', 'ctr', 'ctr', 'ctr', 'ctr', 'ctr', 'ctr'], 'source_column_name': ['layout_style', 'layout_style', 'layout_style', 'layout_style', 'layout_style', 'layout_style', 'layout_style', 'layout_style', 'category', 'layout_style'], 'feature_function_type': ['string_mapping', 'string_mapping', 'string_mapping', 'string_mapping', 'string_mapping', 'string_mapping', 'string_mapping', 'string_mapping', 'string_mapping', 'string_mapping']}\n"
     ]
    }
   ],
   "source": [
    "# check available features\n",
    "response = requests.get(\n",
    "    \"http://localhost:8000/feature_store/{feature_store_id}/feature\".format(feature_store_id=feature_store_id))\n",
    "features = response.json()\n",
    "print(features)"
   ]
  },
  {
   "cell_type": "code",
   "execution_count": 9,
   "metadata": {},
   "outputs": [],
   "source": [
    "def convert_client_data_for_online_prediction(data, features):\n",
    "    res = {\"inputs\":[]}\n",
    "    for i in range(len(features[\"source_column_name\"])):\n",
    "        res[\"inputs\"].append(data[features[\"source_column_name\"][i]])\n",
    "    res[\"feature_ids\"] = features[\"feature_id\"]\n",
    "    res[\"feature_store_function_types\"] = features[\"feature_function_type\"]\n",
    "    return res"
   ]
  },
  {
   "cell_type": "code",
   "execution_count": 10,
   "metadata": {},
   "outputs": [
    {
     "name": "stdout",
     "output_type": "stream",
     "text": [
      "{'inputs': ['MP', 'MP', 'MP', 'MP', 'MP', 'MP', 'MP', 'MP', 'Pullover', 'MP'], 'feature_ids': ['5dbfb549', 'ea2f676f', '0ad63312', 'a2480212', '5aae0b22', '65934929', '2658049e', '717456fc', '1d34889f', '915a0c3c'], 'feature_store_function_types': ['string_mapping', 'string_mapping', 'string_mapping', 'string_mapping', 'string_mapping', 'string_mapping', 'string_mapping', 'string_mapping', 'string_mapping', 'string_mapping']}\n"
     ]
    }
   ],
   "source": [
    "get_online_features_input = convert_client_data_for_online_prediction(data=inference_client_input,features=features)\n",
    "print(get_online_features_input)"
   ]
  },
  {
   "cell_type": "code",
   "execution_count": 11,
   "metadata": {},
   "outputs": [
    {
     "name": "stdout",
     "output_type": "stream",
     "text": [
      "[0.0, 0.0, 0.0, 0.0, 0.0, 0.0, 0.0, 0.0, 0.0, 0.0]\n"
     ]
    }
   ],
   "source": [
    "# Get the formated data\n",
    "response = requests.post(\n",
    "    \"http://localhost:8000/online_features\",json=get_online_features_input)\n",
    "online_features = response.json()\n",
    "print(online_features)"
   ]
  },
  {
   "cell_type": "code",
   "execution_count": 12,
   "metadata": {},
   "outputs": [
    {
     "data": {
      "text/plain": [
       "array([[0.99861459, 0.00138541]])"
      ]
     },
     "execution_count": 12,
     "metadata": {},
     "output_type": "execute_result"
    }
   ],
   "source": [
    "model.predict_proba([online_features])"
   ]
  },
  {
   "cell_type": "code",
   "execution_count": null,
   "metadata": {},
   "outputs": [],
   "source": []
  }
 ],
 "metadata": {
  "kernelspec": {
   "display_name": "Python 3 (ipykernel)",
   "language": "python",
   "name": "python3"
  },
  "language_info": {
   "codemirror_mode": {
    "name": "ipython",
    "version": 3
   },
   "file_extension": ".py",
   "mimetype": "text/x-python",
   "name": "python",
   "nbconvert_exporter": "python",
   "pygments_lexer": "ipython3",
   "version": "3.9.6"
  },
  "vscode": {
   "interpreter": {
    "hash": "bd0c7b07d2b2b0faf207598895fa1800ed5fa4e95fc6fa8ba2d3ccd2f05ad962"
   }
  }
 },
 "nbformat": 4,
 "nbformat_minor": 4
}
