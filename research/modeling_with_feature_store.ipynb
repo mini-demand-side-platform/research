{
 "cells": [
  {
   "cell_type": "markdown",
   "id": "ef769861-a1e7-4d82-9e79-28b2bc8d6147",
   "metadata": {},
   "source": [
    "# Modeling"
   ]
  },
  {
   "cell_type": "code",
   "execution_count": 1,
   "id": "b1c675f2-8596-4497-86d3-ede7c88d1863",
   "metadata": {
    "tags": []
   },
   "outputs": [],
   "source": [
    "import pandas as pd\n",
    "import sklearn \n",
    "import psycopg2\n",
    "import numpy as np\n",
    "import seaborn as sns\n",
    "import matplotlib.pyplot as plt\n",
    "import requests\n",
    "from sklearn.metrics import roc_curve, auc\n",
    "from sklearn.metrics import precision_recall_curve\n",
    "from sklearn.linear_model import LogisticRegression\n",
    "from sklearn.model_selection import train_test_split\n",
    "from sklearn.metrics import f1_score"
   ]
  },
  {
   "cell_type": "code",
   "execution_count": 2,
   "id": "fff542ae",
   "metadata": {
    "tags": []
   },
   "outputs": [],
   "source": [
    "plt.style.use('ggplot')"
   ]
  },
  {
   "cell_type": "markdown",
   "id": "9855a3ef",
   "metadata": {},
   "source": [
    "## load data"
   ]
  },
  {
   "cell_type": "code",
   "execution_count": 3,
   "id": "865a8f3f-e294-4bbf-9d7c-b0295b50ec27",
   "metadata": {
    "tags": []
   },
   "outputs": [],
   "source": [
    "# Connect to your postgres DB\n",
    "conn = psycopg2.connect(\n",
    "    dbname=\"olap\",\n",
    "    user=\"dsp\",\n",
    "    password=\"dsppassword\",\n",
    "    host=\"localhost\",\n",
    "    port=\"5432\")\n",
    "\n",
    "# Open a cursor to perform database operations\n",
    "cur = conn.cursor()\n",
    "\n",
    "# Execute a query\n",
    "cur.execute(\"SELECT * FROM ctr\")\n",
    "\n",
    "# Retrieve query results\n",
    "ctr_records = cur.fetchall()\n",
    "cur.close()\n",
    "conn.close()"
   ]
  },
  {
   "cell_type": "code",
   "execution_count": 4,
   "id": "d4df9aa9-d9bf-4158-ba99-cb9b5fecb0aa",
   "metadata": {
    "tags": []
   },
   "outputs": [],
   "source": [
    "ctr_data = pd.DataFrame(\n",
    "    ctr_records, \n",
    "    columns=[\n",
    "        \"ad_id\",\n",
    "        \"status\",\n",
    "        \"bidding_cpc\",\n",
    "        \"advertiser\",\n",
    "        \"banner_style\",\n",
    "        \"category\",\n",
    "        \"height\",\n",
    "        \"width\",\n",
    "        \"item_price\",\n",
    "        \"layout_style\",\n",
    "        \"hist_ctr\",\n",
    "        \"hist_cvr\",\n",
    "        \"was_click\"\n",
    "    ]\n",
    ")"
   ]
  },
  {
   "cell_type": "code",
   "execution_count": 5,
   "id": "82ff048b-7191-48f2-8b6e-d6bd862f0779",
   "metadata": {
    "tags": []
   },
   "outputs": [
    {
     "data": {
      "text/html": [
       "<div>\n",
       "<style scoped>\n",
       "    .dataframe tbody tr th:only-of-type {\n",
       "        vertical-align: middle;\n",
       "    }\n",
       "\n",
       "    .dataframe tbody tr th {\n",
       "        vertical-align: top;\n",
       "    }\n",
       "\n",
       "    .dataframe thead th {\n",
       "        text-align: right;\n",
       "    }\n",
       "</style>\n",
       "<table border=\"1\" class=\"dataframe\">\n",
       "  <thead>\n",
       "    <tr style=\"text-align: right;\">\n",
       "      <th></th>\n",
       "      <th>ad_id</th>\n",
       "      <th>status</th>\n",
       "      <th>bidding_cpc</th>\n",
       "      <th>advertiser</th>\n",
       "      <th>banner_style</th>\n",
       "      <th>category</th>\n",
       "      <th>height</th>\n",
       "      <th>width</th>\n",
       "      <th>item_price</th>\n",
       "      <th>layout_style</th>\n",
       "      <th>hist_ctr</th>\n",
       "      <th>hist_cvr</th>\n",
       "      <th>was_click</th>\n",
       "    </tr>\n",
       "  </thead>\n",
       "  <tbody>\n",
       "    <tr>\n",
       "      <th>0</th>\n",
       "      <td>1228</td>\n",
       "      <td>False</td>\n",
       "      <td>1</td>\n",
       "      <td>QQ</td>\n",
       "      <td>VII</td>\n",
       "      <td>Pullover</td>\n",
       "      <td>27.341917</td>\n",
       "      <td>617.51630</td>\n",
       "      <td>2896.4370</td>\n",
       "      <td>MP</td>\n",
       "      <td>0.000366</td>\n",
       "      <td>0.000068</td>\n",
       "      <td>False</td>\n",
       "    </tr>\n",
       "    <tr>\n",
       "      <th>1</th>\n",
       "      <td>1792</td>\n",
       "      <td>False</td>\n",
       "      <td>1</td>\n",
       "      <td>AAT</td>\n",
       "      <td>X</td>\n",
       "      <td>Trouser</td>\n",
       "      <td>92.063240</td>\n",
       "      <td>214.45262</td>\n",
       "      <td>2090.9883</td>\n",
       "      <td>CP</td>\n",
       "      <td>0.000617</td>\n",
       "      <td>0.000140</td>\n",
       "      <td>False</td>\n",
       "    </tr>\n",
       "    <tr>\n",
       "      <th>2</th>\n",
       "      <td>1072</td>\n",
       "      <td>True</td>\n",
       "      <td>1</td>\n",
       "      <td>WKN</td>\n",
       "      <td>VII</td>\n",
       "      <td>Bag</td>\n",
       "      <td>53.559074</td>\n",
       "      <td>632.53990</td>\n",
       "      <td>1267.7264</td>\n",
       "      <td>HU</td>\n",
       "      <td>0.043057</td>\n",
       "      <td>0.000114</td>\n",
       "      <td>False</td>\n",
       "    </tr>\n",
       "    <tr>\n",
       "      <th>3</th>\n",
       "      <td>351</td>\n",
       "      <td>True</td>\n",
       "      <td>2</td>\n",
       "      <td>DQT</td>\n",
       "      <td>XV</td>\n",
       "      <td>Coat</td>\n",
       "      <td>15.722390</td>\n",
       "      <td>707.97230</td>\n",
       "      <td>625.4798</td>\n",
       "      <td>BE</td>\n",
       "      <td>0.001542</td>\n",
       "      <td>0.000020</td>\n",
       "      <td>False</td>\n",
       "    </tr>\n",
       "    <tr>\n",
       "      <th>4</th>\n",
       "      <td>1764</td>\n",
       "      <td>True</td>\n",
       "      <td>2</td>\n",
       "      <td>WCI</td>\n",
       "      <td>IX</td>\n",
       "      <td>Trouser</td>\n",
       "      <td>6.916314</td>\n",
       "      <td>393.05652</td>\n",
       "      <td>2707.3628</td>\n",
       "      <td>TX</td>\n",
       "      <td>0.014159</td>\n",
       "      <td>0.000194</td>\n",
       "      <td>False</td>\n",
       "    </tr>\n",
       "  </tbody>\n",
       "</table>\n",
       "</div>"
      ],
      "text/plain": [
       "   ad_id  status  bidding_cpc advertiser banner_style  category     height   \n",
       "0   1228   False            1         QQ          VII  Pullover  27.341917  \\\n",
       "1   1792   False            1        AAT            X   Trouser  92.063240   \n",
       "2   1072    True            1        WKN          VII       Bag  53.559074   \n",
       "3    351    True            2        DQT           XV      Coat  15.722390   \n",
       "4   1764    True            2        WCI           IX   Trouser   6.916314   \n",
       "\n",
       "       width  item_price layout_style  hist_ctr  hist_cvr  was_click  \n",
       "0  617.51630   2896.4370           MP  0.000366  0.000068      False  \n",
       "1  214.45262   2090.9883           CP  0.000617  0.000140      False  \n",
       "2  632.53990   1267.7264           HU  0.043057  0.000114      False  \n",
       "3  707.97230    625.4798           BE  0.001542  0.000020      False  \n",
       "4  393.05652   2707.3628           TX  0.014159  0.000194      False  "
      ]
     },
     "execution_count": 5,
     "metadata": {},
     "output_type": "execute_result"
    }
   ],
   "source": [
    "ctr_data.head()"
   ]
  },
  {
   "cell_type": "code",
   "execution_count": 6,
   "id": "e04dde2a",
   "metadata": {
    "tags": []
   },
   "outputs": [
    {
     "data": {
      "text/plain": [
       "0.0099052038387001"
      ]
     },
     "execution_count": 6,
     "metadata": {},
     "output_type": "execute_result"
    }
   ],
   "source": [
    "np.mean(ctr_data[\"hist_ctr\"])"
   ]
  },
  {
   "cell_type": "markdown",
   "id": "142113a7",
   "metadata": {},
   "source": [
    "## choice top 10 feature from correlation"
   ]
  },
  {
   "cell_type": "code",
   "execution_count": 7,
   "id": "2c8ef009-53cb-4db3-a9f5-40e73a8466be",
   "metadata": {
    "tags": []
   },
   "outputs": [],
   "source": [
    "numerical_features = [\"bidding_cpc\", \"height\", \"width\", \"item_price\", \"hist_ctr\", \"hist_cvr\"]\n",
    "categorical_features = [\"banner_style\", \"category\", \"layout_style\"]\n",
    "target_features = [\"was_click\"]"
   ]
  },
  {
   "cell_type": "code",
   "execution_count": 8,
   "id": "16a8b634-e040-4a26-90d4-a4a4ec9d7f80",
   "metadata": {
    "tags": []
   },
   "outputs": [],
   "source": [
    "formated_data = pd.concat(\n",
    "    [\n",
    "        pd.get_dummies(ctr_data[categorical_features]), \n",
    "        ctr_data[numerical_features],\n",
    "        ctr_data[target_features]\n",
    "    ],  axis=1)"
   ]
  },
  {
   "cell_type": "code",
   "execution_count": 9,
   "id": "a1b09e01",
   "metadata": {
    "tags": []
   },
   "outputs": [],
   "source": [
    "correlation_matrix = formated_data.corr()"
   ]
  },
  {
   "cell_type": "code",
   "execution_count": 10,
   "id": "25a6004a-960d-4145-92b5-e759e5dadca3",
   "metadata": {
    "tags": []
   },
   "outputs": [],
   "source": [
    "correlation_matrix[\"was_click_abs\"] = abs(correlation_matrix[\"was_click\"])"
   ]
  },
  {
   "cell_type": "code",
   "execution_count": 11,
   "id": "e0c940a0",
   "metadata": {
    "tags": []
   },
   "outputs": [
    {
     "data": {
      "text/plain": [
       "was_click          1.000000\n",
       "layout_style_AB    0.010976\n",
       "layout_style_RU    0.005915\n",
       "layout_style_GY    0.005826\n",
       "layout_style_MR    0.005815\n",
       "layout_style_BK    0.005572\n",
       "layout_style_BX    0.005548\n",
       "layout_style_RZ    0.005274\n",
       "layout_style_TY    0.005184\n",
       "category_Shirt     0.005042\n",
       "layout_style_DX    0.004874\n",
       "Name: was_click_abs, dtype: float64"
      ]
     },
     "execution_count": 11,
     "metadata": {},
     "output_type": "execute_result"
    }
   ],
   "source": [
    "correlation_matrix[\"was_click_abs\"].sort_values(ascending=False).head(11)"
   ]
  },
  {
   "cell_type": "code",
   "execution_count": 12,
   "id": "376c522e",
   "metadata": {
    "tags": []
   },
   "outputs": [
    {
     "name": "stdout",
     "output_type": "stream",
     "text": [
      "['layout_style_AB', 'layout_style_RU', 'layout_style_GY', 'layout_style_MR', 'layout_style_BK', 'layout_style_BX', 'layout_style_RZ', 'layout_style_TY', 'category_Shirt', 'layout_style_DX']\n"
     ]
    }
   ],
   "source": [
    "decided_features = list(correlation_matrix[\"was_click_abs\"].sort_values(ascending=False).head(11).index)[1:]\n",
    "print(decided_features)"
   ]
  },
  {
   "cell_type": "markdown",
   "id": "1c0f7f7e-b45e-48a1-be3d-b03f0d94dbb3",
   "metadata": {},
   "source": [
    "## Create features on feature store"
   ]
  },
  {
   "cell_type": "code",
   "execution_count": 13,
   "id": "de8f9476-eabf-43d6-ae8e-e776ea7530de",
   "metadata": {
    "tags": []
   },
   "outputs": [
    {
     "name": "stdout",
     "output_type": "stream",
     "text": [
      "True\n"
     ]
    }
   ],
   "source": [
    "# check feature store server\n",
    "response = requests.get(\"http://localhost:8000/health\")\n",
    "print(response.json())"
   ]
  },
  {
   "cell_type": "code",
   "execution_count": 14,
   "id": "b3747a69-2c8f-4095-a2b8-2da66a95c6e3",
   "metadata": {
    "tags": []
   },
   "outputs": [
    {
     "name": "stdout",
     "output_type": "stream",
     "text": [
      "cdc74d4c\n"
     ]
    }
   ],
   "source": [
    "# create feature store\n",
    "feature_store_name = \"mini-demand-side-platform\"\n",
    "offline_table_name = \"top_10_features\"\n",
    "feature_store_description = \"choice top 10 feature from correlation\"\n",
    "response = requests.post(\n",
    "    \"http://localhost:8000/feature_store\", \n",
    "    json={\n",
    "        \"feature_store_name\": feature_store_name,\n",
    "        \"offline_table_name\": offline_table_name,\n",
    "        \"description\": feature_store_description\n",
    "    })\n",
    "feature_store_id = response.json()\n",
    "print(feature_store_id)"
   ]
  },
  {
   "cell_type": "code",
   "execution_count": 15,
   "id": "61cb8b91-718e-408d-bf7e-9e1485b21be4",
   "metadata": {
    "tags": []
   },
   "outputs": [
    {
     "name": "stdout",
     "output_type": "stream",
     "text": [
      "feature_name:  layout_style_AB\n",
      "create feature payload:  {'feature_name': 'layout_style_AB', 'source_table_name': 'ctr', 'source_column_name': 'layout_style', 'function_name': 'layout_style_AB', 'description': 'map layout_style AB to 1', 'mapping_rules': {'AB': 1, 'default': 0}}\n",
      "feature_name:  layout_style_RU\n",
      "create feature payload:  {'feature_name': 'layout_style_RU', 'source_table_name': 'ctr', 'source_column_name': 'layout_style', 'function_name': 'layout_style_RU', 'description': 'map layout_style RU to 1', 'mapping_rules': {'RU': 1, 'default': 0}}\n",
      "feature_name:  layout_style_GY\n",
      "create feature payload:  {'feature_name': 'layout_style_GY', 'source_table_name': 'ctr', 'source_column_name': 'layout_style', 'function_name': 'layout_style_GY', 'description': 'map layout_style GY to 1', 'mapping_rules': {'GY': 1, 'default': 0}}\n",
      "feature_name:  layout_style_MR\n",
      "create feature payload:  {'feature_name': 'layout_style_MR', 'source_table_name': 'ctr', 'source_column_name': 'layout_style', 'function_name': 'layout_style_MR', 'description': 'map layout_style MR to 1', 'mapping_rules': {'MR': 1, 'default': 0}}\n",
      "feature_name:  layout_style_BK\n",
      "create feature payload:  {'feature_name': 'layout_style_BK', 'source_table_name': 'ctr', 'source_column_name': 'layout_style', 'function_name': 'layout_style_BK', 'description': 'map layout_style BK to 1', 'mapping_rules': {'BK': 1, 'default': 0}}\n",
      "feature_name:  layout_style_BX\n",
      "create feature payload:  {'feature_name': 'layout_style_BX', 'source_table_name': 'ctr', 'source_column_name': 'layout_style', 'function_name': 'layout_style_BX', 'description': 'map layout_style BX to 1', 'mapping_rules': {'BX': 1, 'default': 0}}\n",
      "feature_name:  layout_style_RZ\n",
      "create feature payload:  {'feature_name': 'layout_style_RZ', 'source_table_name': 'ctr', 'source_column_name': 'layout_style', 'function_name': 'layout_style_RZ', 'description': 'map layout_style RZ to 1', 'mapping_rules': {'RZ': 1, 'default': 0}}\n",
      "feature_name:  layout_style_TY\n",
      "create feature payload:  {'feature_name': 'layout_style_TY', 'source_table_name': 'ctr', 'source_column_name': 'layout_style', 'function_name': 'layout_style_TY', 'description': 'map layout_style TY to 1', 'mapping_rules': {'TY': 1, 'default': 0}}\n",
      "feature_name:  category_Shirt\n",
      "create feature payload:  {'feature_name': 'category_Shirt', 'source_table_name': 'ctr', 'source_column_name': 'category', 'function_name': 'category_Shirt', 'description': 'map category Shirt to 1', 'mapping_rules': {'Shirt': 1, 'default': 0}}\n",
      "feature_name:  layout_style_DX\n",
      "create feature payload:  {'feature_name': 'layout_style_DX', 'source_table_name': 'ctr', 'source_column_name': 'layout_style', 'function_name': 'layout_style_DX', 'description': 'map layout_style DX to 1', 'mapping_rules': {'DX': 1, 'default': 0}}\n"
     ]
    }
   ],
   "source": [
    "# create features\n",
    "for decided_feature in decided_features:\n",
    "    print(\"feature_name: \", decided_feature)\n",
    "    mapping_value = decided_feature.split(\"_\")[-1]\n",
    "    original_column_name = \"_\".join(decided_feature.split(\"_\")[:-1])\n",
    "    payload = {\n",
    "        \"feature_name\": decided_feature,\n",
    "        \"source_table_name\": \"ctr\",\n",
    "        \"source_column_name\": original_column_name,\n",
    "        \"function_name\": decided_feature,\n",
    "        \"description\": \"map {column} {target} to 1\".format(\n",
    "            column=original_column_name, \n",
    "            target=mapping_value),\n",
    "        \"mapping_rules\": {mapping_value: 1, \"default\": 0}\n",
    "    }\n",
    "    print(\"create feature payload: \", payload)\n",
    "    response = requests.post(\n",
    "        \"http://localhost:8000/feature_store/{feature_store_id}/feature/string_mapping\".format(\n",
    "            feature_store_id=feature_store_id),\n",
    "        json=payload)\n"
   ]
  },
  {
   "cell_type": "code",
   "execution_count": 16,
   "id": "04a8fbdf-4914-4a67-9aa9-fb17fac83326",
   "metadata": {
    "tags": []
   },
   "outputs": [
    {
     "name": "stdout",
     "output_type": "stream",
     "text": [
      "{'feature_id': ['5dbfb549', 'ea2f676f', '0ad63312', 'a2480212', '5aae0b22', '65934929', '2658049e', '717456fc', '1d34889f', '915a0c3c'], 'feature_name': ['layout_style_AB', 'layout_style_RU', 'layout_style_GY', 'layout_style_MR', 'layout_style_BK', 'layout_style_BX', 'layout_style_RZ', 'layout_style_TY', 'category_Shirt', 'layout_style_DX'], 'description': ['map layout_style AB to 1', 'map layout_style RU to 1', 'map layout_style GY to 1', 'map layout_style MR to 1', 'map layout_style BK to 1', 'map layout_style BX to 1', 'map layout_style RZ to 1', 'map layout_style TY to 1', 'map category Shirt to 1', 'map layout_style DX to 1'], 'function_name': ['layout_style_AB', 'layout_style_RU', 'layout_style_GY', 'layout_style_MR', 'layout_style_BK', 'layout_style_BX', 'layout_style_RZ', 'layout_style_TY', 'category_Shirt', 'layout_style_DX']}\n"
     ]
    }
   ],
   "source": [
    "# check created features\n",
    "response = requests.get(\n",
    "    \"http://localhost:8000/feature_store/{feature_store_id}/feature\".format(\n",
    "        feature_store_id=feature_store_id))\n",
    "features = response.json()\n",
    "print(features)"
   ]
  },
  {
   "cell_type": "code",
   "execution_count": 17,
   "id": "62bd0284-01d4-47b4-bf9a-a485dd696a67",
   "metadata": {
    "tags": []
   },
   "outputs": [
    {
     "name": "stdout",
     "output_type": "stream",
     "text": [
      "True\n"
     ]
    }
   ],
   "source": [
    "# gernerate offline table\n",
    "response = requests.post(\n",
    "    \"http://localhost:8000/feature_store/{feature_store_id}/offline_table\".format(\n",
    "        feature_store_id=feature_store_id))\n",
    "print(response.json())"
   ]
  },
  {
   "cell_type": "code",
   "execution_count": 18,
   "id": "0030dea0-2899-4884-8dcf-ad345125f9aa",
   "metadata": {
    "tags": []
   },
   "outputs": [],
   "source": [
    "# get data from feature store\n",
    "conn = psycopg2.connect(\n",
    "    dbname=\"olap\",\n",
    "    user=\"dsp\",\n",
    "    password=\"dsppassword\",\n",
    "    host=\"localhost\",\n",
    "    port=\"5432\")\n",
    "\n",
    "# Open a cursor to perform database operations\n",
    "cur = conn.cursor()\n",
    "\n",
    "# Execute a query\n",
    "cur.execute(\"SELECT * FROM {table_name}\".format(table_name=offline_table_name))\n",
    "\n",
    "# Retrieve query results\n",
    "top_10_features_records = cur.fetchall()\n",
    "cur.close()\n",
    "conn.close()"
   ]
  },
  {
   "cell_type": "code",
   "execution_count": 19,
   "id": "3a24dbbe-4fc1-4a73-ac44-c5e6b5d38a12",
   "metadata": {
    "tags": []
   },
   "outputs": [],
   "source": [
    "top_10_features_data = pd.DataFrame(\n",
    "    top_10_features_records, \n",
    "    columns=[\"row_id\"]+decided_features\n",
    ")"
   ]
  },
  {
   "cell_type": "code",
   "execution_count": 20,
   "id": "34eea209-be4d-4f24-abb0-d194b15400ca",
   "metadata": {
    "tags": []
   },
   "outputs": [
    {
     "data": {
      "text/html": [
       "<div>\n",
       "<style scoped>\n",
       "    .dataframe tbody tr th:only-of-type {\n",
       "        vertical-align: middle;\n",
       "    }\n",
       "\n",
       "    .dataframe tbody tr th {\n",
       "        vertical-align: top;\n",
       "    }\n",
       "\n",
       "    .dataframe thead th {\n",
       "        text-align: right;\n",
       "    }\n",
       "</style>\n",
       "<table border=\"1\" class=\"dataframe\">\n",
       "  <thead>\n",
       "    <tr style=\"text-align: right;\">\n",
       "      <th></th>\n",
       "      <th>row_id</th>\n",
       "      <th>layout_style_AB</th>\n",
       "      <th>layout_style_RU</th>\n",
       "      <th>layout_style_GY</th>\n",
       "      <th>layout_style_MR</th>\n",
       "      <th>layout_style_BK</th>\n",
       "      <th>layout_style_BX</th>\n",
       "      <th>layout_style_RZ</th>\n",
       "      <th>layout_style_TY</th>\n",
       "      <th>category_Shirt</th>\n",
       "      <th>layout_style_DX</th>\n",
       "    </tr>\n",
       "  </thead>\n",
       "  <tbody>\n",
       "    <tr>\n",
       "      <th>0</th>\n",
       "      <td>1</td>\n",
       "      <td>0.0</td>\n",
       "      <td>0.0</td>\n",
       "      <td>0.0</td>\n",
       "      <td>0.0</td>\n",
       "      <td>0.0</td>\n",
       "      <td>0.0</td>\n",
       "      <td>0.0</td>\n",
       "      <td>0.0</td>\n",
       "      <td>0.0</td>\n",
       "      <td>0.0</td>\n",
       "    </tr>\n",
       "    <tr>\n",
       "      <th>1</th>\n",
       "      <td>2</td>\n",
       "      <td>0.0</td>\n",
       "      <td>0.0</td>\n",
       "      <td>0.0</td>\n",
       "      <td>0.0</td>\n",
       "      <td>0.0</td>\n",
       "      <td>0.0</td>\n",
       "      <td>0.0</td>\n",
       "      <td>0.0</td>\n",
       "      <td>0.0</td>\n",
       "      <td>0.0</td>\n",
       "    </tr>\n",
       "    <tr>\n",
       "      <th>2</th>\n",
       "      <td>3</td>\n",
       "      <td>0.0</td>\n",
       "      <td>0.0</td>\n",
       "      <td>0.0</td>\n",
       "      <td>0.0</td>\n",
       "      <td>0.0</td>\n",
       "      <td>0.0</td>\n",
       "      <td>0.0</td>\n",
       "      <td>0.0</td>\n",
       "      <td>0.0</td>\n",
       "      <td>0.0</td>\n",
       "    </tr>\n",
       "    <tr>\n",
       "      <th>3</th>\n",
       "      <td>4</td>\n",
       "      <td>0.0</td>\n",
       "      <td>0.0</td>\n",
       "      <td>0.0</td>\n",
       "      <td>0.0</td>\n",
       "      <td>0.0</td>\n",
       "      <td>0.0</td>\n",
       "      <td>0.0</td>\n",
       "      <td>0.0</td>\n",
       "      <td>0.0</td>\n",
       "      <td>0.0</td>\n",
       "    </tr>\n",
       "    <tr>\n",
       "      <th>4</th>\n",
       "      <td>5</td>\n",
       "      <td>0.0</td>\n",
       "      <td>0.0</td>\n",
       "      <td>0.0</td>\n",
       "      <td>0.0</td>\n",
       "      <td>0.0</td>\n",
       "      <td>0.0</td>\n",
       "      <td>0.0</td>\n",
       "      <td>0.0</td>\n",
       "      <td>0.0</td>\n",
       "      <td>0.0</td>\n",
       "    </tr>\n",
       "  </tbody>\n",
       "</table>\n",
       "</div>"
      ],
      "text/plain": [
       "   row_id  layout_style_AB  layout_style_RU  layout_style_GY  layout_style_MR   \n",
       "0       1              0.0              0.0              0.0              0.0  \\\n",
       "1       2              0.0              0.0              0.0              0.0   \n",
       "2       3              0.0              0.0              0.0              0.0   \n",
       "3       4              0.0              0.0              0.0              0.0   \n",
       "4       5              0.0              0.0              0.0              0.0   \n",
       "\n",
       "   layout_style_BK  layout_style_BX  layout_style_RZ  layout_style_TY   \n",
       "0              0.0              0.0              0.0              0.0  \\\n",
       "1              0.0              0.0              0.0              0.0   \n",
       "2              0.0              0.0              0.0              0.0   \n",
       "3              0.0              0.0              0.0              0.0   \n",
       "4              0.0              0.0              0.0              0.0   \n",
       "\n",
       "   category_Shirt  layout_style_DX  \n",
       "0             0.0              0.0  \n",
       "1             0.0              0.0  \n",
       "2             0.0              0.0  \n",
       "3             0.0              0.0  \n",
       "4             0.0              0.0  "
      ]
     },
     "execution_count": 20,
     "metadata": {},
     "output_type": "execute_result"
    }
   ],
   "source": [
    "top_10_features_data.head()"
   ]
  },
  {
   "cell_type": "markdown",
   "id": "311eff17-a4f6-455c-a027-83c5a6419978",
   "metadata": {},
   "source": [
    "## fit model"
   ]
  },
  {
   "cell_type": "code",
   "execution_count": 21,
   "id": "a08530a2",
   "metadata": {
    "tags": []
   },
   "outputs": [],
   "source": [
    "X, y = top_10_features_data[decided_features], ctr_data[target_features]\n",
    "X_train, X_test, y_train, y_test = train_test_split(\n",
    "    X, y, test_size=0.33, random_state=42)"
   ]
  },
  {
   "cell_type": "code",
   "execution_count": 22,
   "id": "7bbe8e7c",
   "metadata": {
    "tags": []
   },
   "outputs": [
    {
     "name": "stderr",
     "output_type": "stream",
     "text": [
      "/Users/k/Library/Caches/pypoetry/virtualenvs/research-3QkaudzG-py3.9/lib/python3.9/site-packages/sklearn/utils/validation.py:1111: DataConversionWarning: A column-vector y was passed when a 1d array was expected. Please change the shape of y to (n_samples, ), for example using ravel().\n",
      "  y = column_or_1d(y, warn=True)\n"
     ]
    }
   ],
   "source": [
    "clf = LogisticRegression(random_state=0).fit(X_train, y_train)"
   ]
  },
  {
   "cell_type": "markdown",
   "id": "4d247491-9935-486a-ba2a-a76feb8df677",
   "metadata": {},
   "source": [
    "## check result"
   ]
  },
  {
   "cell_type": "code",
   "execution_count": 23,
   "id": "34ef8bdd-0a6a-43ca-9f85-bdbdfb899667",
   "metadata": {
    "tags": []
   },
   "outputs": [
    {
     "data": {
      "text/plain": [
       "0.9986666666666667"
      ]
     },
     "execution_count": 23,
     "metadata": {},
     "output_type": "execute_result"
    }
   ],
   "source": [
    "clf.score(X_test, y_test)"
   ]
  },
  {
   "cell_type": "code",
   "execution_count": 24,
   "id": "4bdc902f",
   "metadata": {
    "tags": []
   },
   "outputs": [],
   "source": [
    "predictions = clf.predict_proba(X_test)[:,1]"
   ]
  },
  {
   "cell_type": "code",
   "execution_count": 25,
   "id": "cc0a9136",
   "metadata": {
    "tags": []
   },
   "outputs": [
    {
     "data": {
      "image/png": "[encoded data removed]",
      "text/plain": [
       "<Figure size 640x480 with 1 Axes>"
      ]
     },
     "metadata": {},
     "output_type": "display_data"
    }
   ],
   "source": [
    "# Predictions histogram\n",
    "plt.title(\"Predictions Distribution\")\n",
    "plt.hist(predictions)\n",
    "plt.show()"
   ]
  },
  {
   "cell_type": "code",
   "execution_count": 26,
   "id": "34537631",
   "metadata": {
    "tags": []
   },
   "outputs": [
    {
     "data": {
      "image/png": "[encoded data removed]",
      "text/plain": [
       "<Figure size 640x480 with 1 Axes>"
      ]
     },
     "metadata": {},
     "output_type": "display_data"
    }
   ],
   "source": [
    "# Roc curve\n",
    "fpr, tpr, _ = roc_curve(y_test, predictions)\n",
    "roc_auc = auc(fpr, tpr)\n",
    "\n",
    "plt.figure()\n",
    "lw = 2\n",
    "plt.plot(fpr, tpr, color='darkorange',\n",
    "         lw=lw, label='AUC = %0.2f' % roc_auc)\n",
    "plt.plot([0, 1], [0, 1], color='navy', lw=lw, linestyle='--')\n",
    "plt.xlim([0.0, 1.0])\n",
    "plt.ylim([0.0, 1.05])\n",
    "plt.xlabel('False Positive Rate')\n",
    "plt.ylabel('True Positive Rate')\n",
    "plt.title('ROC Curve')\n",
    "plt.legend(loc=\"lower right\")\n",
    "plt.show()"
   ]
  },
  {
   "cell_type": "code",
   "execution_count": 27,
   "id": "065861f0",
   "metadata": {
    "tags": []
   },
   "outputs": [
    {
     "name": "stdout",
     "output_type": "stream",
     "text": [
      "LogisticRegression model: auc=0.009\n"
     ]
    },
    {
     "data": {
      "image/png": "[encoded data removed]",
      "text/plain": [
       "<Figure size 640x480 with 1 Axes>"
      ]
     },
     "metadata": {},
     "output_type": "display_data"
    }
   ],
   "source": [
    "# Precision Recall Curve\n",
    "precision, recall, _ = precision_recall_curve(y_test, predictions)\n",
    "\n",
    "model_auc = auc(recall, precision)\n",
    "\n",
    "# summarize scores\n",
    "print('LogisticRegression model: auc=%.3f' % (model_auc))\n",
    "\n",
    "# plot the precision-recall curves\n",
    "plt.plot(recall, precision, marker='.', label=\"LogisticRegression\")\n",
    "# axis labels\n",
    "plt.title(\"Precision-Recall Curve\")\n",
    "plt.xlabel('Recall')\n",
    "plt.ylabel('Precision')\n",
    "# show the legend\n",
    "plt.legend()\n",
    "# show the plot\n",
    "plt.show()"
   ]
  },
  {
   "cell_type": "markdown",
   "id": "f5623499",
   "metadata": {},
   "source": [
    " ## Reference\n",
    "- [Precision Recall Curve](https://machinelearningmastery.com/roc-curves-and-precision-recall-curves-for-classification-in-python/)"
   ]
  }
 ],
 "metadata": {
  "kernelspec": {
   "display_name": "Python 3 (ipykernel)",
   "language": "python",
   "name": "python3"
  },
  "language_info": {
   "codemirror_mode": {
    "name": "ipython",
    "version": 3
   },
   "file_extension": ".py",
   "mimetype": "text/x-python",
   "name": "python",
   "nbconvert_exporter": "python",
   "pygments_lexer": "ipython3",
   "version": "3.9.6"
  },
  "toc": {
   "base_numbering": 1,
   "nav_menu": {
    "height": "12px",
    "width": "190px"
   },
   "number_sections": true,
   "sideBar": true,
   "skip_h1_title": false,
   "title_cell": "Table of Contents",
   "title_sidebar": "Contents",
   "toc_cell": false,
   "toc_position": {},
   "toc_section_display": true,
   "toc_window_display": true
  },
  "vscode": {
   "interpreter": {
    "hash": "4b702b570f3437b8f478dd825263970c591cd0f031b19fe29eb97e9e363427aa"
   }
  }
 },
 "nbformat": 4,
 "nbformat_minor": 5
}
